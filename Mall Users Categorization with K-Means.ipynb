{
  "nbformat": 4,
  "nbformat_minor": 0,
  "metadata": {
    "kernelspec": {
      "display_name": "Python 3",
      "language": "python",
      "name": "python3"
    },
    "language_info": {
      "codemirror_mode": {
        "name": "ipython",
        "version": 3
      },
      "file_extension": ".py",
      "mimetype": "text/x-python",
      "name": "python",
      "nbconvert_exporter": "python",
      "pygments_lexer": "ipython3",
      "version": "3.7.4"
    },
    "colab": {
      "name": "Mall.ipynb",
      "provenance": []
    }
  },
  "cells": [
    {
      "cell_type": "markdown",
      "metadata": {
        "id": "QmrY88x8CWI_"
      },
      "source": [
        "## 1 - Packages"
      ]
    },
    {
      "cell_type": "code",
      "metadata": {
        "id": "yxdekcOpCWJC"
      },
      "source": [
        "# Import packages\n",
        "import numpy as np\n",
        "import pandas as pd\n",
        "import matplotlib.pyplot as plt\n",
        "\n",
        "%matplotlib inline"
      ],
      "execution_count": 1,
      "outputs": []
    },
    {
      "cell_type": "markdown",
      "metadata": {
        "id": "POrt6vGHCWJD"
      },
      "source": [
        "## 2 - Overview of the Problem set\n",
        "\n",
        "**Problem Statement**: You are a machine learning engineer at a mall that wants to segment its users to some categories. The mall has given you an information about its users to cluster them, so the mall can direct its advertisments to the target users who will increase mall's profit.\n",
        "\n",
        "Let's get more familiar with the dataset."
      ]
    },
    {
      "cell_type": "code",
      "metadata": {
        "colab": {
          "base_uri": "https://localhost:8080/",
          "height": 200
        },
        "id": "ks5T-cGwCWJD",
        "outputId": "ff3d48db-5f3a-4a21-f709-3fbcde533f40"
      },
      "source": [
        "# Loading dataset\n",
        "dataset = pd.read_csv('mall.csv')\n",
        "dataset.head()"
      ],
      "execution_count": 5,
      "outputs": [
        {
          "output_type": "execute_result",
          "data": {
            "text/html": [
              "<div>\n",
              "<style scoped>\n",
              "    .dataframe tbody tr th:only-of-type {\n",
              "        vertical-align: middle;\n",
              "    }\n",
              "\n",
              "    .dataframe tbody tr th {\n",
              "        vertical-align: top;\n",
              "    }\n",
              "\n",
              "    .dataframe thead th {\n",
              "        text-align: right;\n",
              "    }\n",
              "</style>\n",
              "<table border=\"1\" class=\"dataframe\">\n",
              "  <thead>\n",
              "    <tr style=\"text-align: right;\">\n",
              "      <th></th>\n",
              "      <th>CustomerID</th>\n",
              "      <th>Annual Income (k$)</th>\n",
              "      <th>Spending Score (1-100)</th>\n",
              "    </tr>\n",
              "  </thead>\n",
              "  <tbody>\n",
              "    <tr>\n",
              "      <th>0</th>\n",
              "      <td>1</td>\n",
              "      <td>15</td>\n",
              "      <td>39</td>\n",
              "    </tr>\n",
              "    <tr>\n",
              "      <th>1</th>\n",
              "      <td>2</td>\n",
              "      <td>15</td>\n",
              "      <td>81</td>\n",
              "    </tr>\n",
              "    <tr>\n",
              "      <th>2</th>\n",
              "      <td>3</td>\n",
              "      <td>16</td>\n",
              "      <td>6</td>\n",
              "    </tr>\n",
              "    <tr>\n",
              "      <th>3</th>\n",
              "      <td>4</td>\n",
              "      <td>16</td>\n",
              "      <td>77</td>\n",
              "    </tr>\n",
              "    <tr>\n",
              "      <th>4</th>\n",
              "      <td>5</td>\n",
              "      <td>17</td>\n",
              "      <td>40</td>\n",
              "    </tr>\n",
              "  </tbody>\n",
              "</table>\n",
              "</div>"
            ],
            "text/plain": [
              "   CustomerID  Annual Income (k$)  Spending Score (1-100)\n",
              "0           1                  15                      39\n",
              "1           2                  15                      81\n",
              "2           3                  16                       6\n",
              "3           4                  16                      77\n",
              "4           5                  17                      40"
            ]
          },
          "metadata": {
            "tags": []
          },
          "execution_count": 5
        }
      ]
    },
    {
      "cell_type": "code",
      "metadata": {
        "colab": {
          "base_uri": "https://localhost:8080/"
        },
        "id": "xEUa2qNdFmFr",
        "outputId": "fc15dc1f-4efa-49ad-8902-5f40fdbb097f"
      },
      "source": [
        "dataset.size"
      ],
      "execution_count": 7,
      "outputs": [
        {
          "output_type": "execute_result",
          "data": {
            "text/plain": [
              "600"
            ]
          },
          "metadata": {
            "tags": []
          },
          "execution_count": 7
        }
      ]
    },
    {
      "cell_type": "code",
      "metadata": {
        "colab": {
          "base_uri": "https://localhost:8080/",
          "height": 200
        },
        "id": "slaYdVgDGDtR",
        "outputId": "9c4f5a00-1db0-4476-d4ad-08bc6963bd68"
      },
      "source": [
        "df = pd.DataFrame(data= dataset, columns= dataset.columns)\n",
        "df.head()"
      ],
      "execution_count": 8,
      "outputs": [
        {
          "output_type": "execute_result",
          "data": {
            "text/html": [
              "<div>\n",
              "<style scoped>\n",
              "    .dataframe tbody tr th:only-of-type {\n",
              "        vertical-align: middle;\n",
              "    }\n",
              "\n",
              "    .dataframe tbody tr th {\n",
              "        vertical-align: top;\n",
              "    }\n",
              "\n",
              "    .dataframe thead th {\n",
              "        text-align: right;\n",
              "    }\n",
              "</style>\n",
              "<table border=\"1\" class=\"dataframe\">\n",
              "  <thead>\n",
              "    <tr style=\"text-align: right;\">\n",
              "      <th></th>\n",
              "      <th>CustomerID</th>\n",
              "      <th>Annual Income (k$)</th>\n",
              "      <th>Spending Score (1-100)</th>\n",
              "    </tr>\n",
              "  </thead>\n",
              "  <tbody>\n",
              "    <tr>\n",
              "      <th>0</th>\n",
              "      <td>1</td>\n",
              "      <td>15</td>\n",
              "      <td>39</td>\n",
              "    </tr>\n",
              "    <tr>\n",
              "      <th>1</th>\n",
              "      <td>2</td>\n",
              "      <td>15</td>\n",
              "      <td>81</td>\n",
              "    </tr>\n",
              "    <tr>\n",
              "      <th>2</th>\n",
              "      <td>3</td>\n",
              "      <td>16</td>\n",
              "      <td>6</td>\n",
              "    </tr>\n",
              "    <tr>\n",
              "      <th>3</th>\n",
              "      <td>4</td>\n",
              "      <td>16</td>\n",
              "      <td>77</td>\n",
              "    </tr>\n",
              "    <tr>\n",
              "      <th>4</th>\n",
              "      <td>5</td>\n",
              "      <td>17</td>\n",
              "      <td>40</td>\n",
              "    </tr>\n",
              "  </tbody>\n",
              "</table>\n",
              "</div>"
            ],
            "text/plain": [
              "   CustomerID  Annual Income (k$)  Spending Score (1-100)\n",
              "0           1                  15                      39\n",
              "1           2                  15                      81\n",
              "2           3                  16                       6\n",
              "3           4                  16                      77\n",
              "4           5                  17                      40"
            ]
          },
          "metadata": {
            "tags": []
          },
          "execution_count": 8
        }
      ]
    },
    {
      "cell_type": "markdown",
      "metadata": {
        "id": "FuCT2hE_CWJE"
      },
      "source": [
        "### Now, you're going to cluster mall's users to help the mall to find the target segment of users who will increase the mall's profit.\n",
        "    \n",
        "### Let's go :)"
      ]
    },
    {
      "cell_type": "markdown",
      "metadata": {
        "id": "fYuNqypGF8y6"
      },
      "source": [
        "### Find Optimal number of Clusters"
      ]
    },
    {
      "cell_type": "code",
      "metadata": {
        "colab": {
          "base_uri": "https://localhost:8080/",
          "height": 295
        },
        "id": "ILO6pUvxGBl-",
        "outputId": "4fca5937-9cbb-47eb-bca1-c7d2bfb25e70"
      },
      "source": [
        "from sklearn.cluster import KMeans\n",
        "wcss = []\n",
        "clusters_range = range(1, 11)\n",
        "for i in clusters_range:\n",
        "    kmeans = KMeans(n_clusters=i, init='k-means++', random_state=42)\n",
        "    kmeans.fit(df)\n",
        "    wcss.append(kmeans.inertia_)\n",
        "plt.plot(clusters_range, wcss)\n",
        "plt.title('The Elbow Method')\n",
        "plt.xlabel('Number of clusters')\n",
        "plt.ylabel('WCSS')\n",
        "plt.show()"
      ],
      "execution_count": 9,
      "outputs": [
        {
          "output_type": "display_data",
          "data": {
            "image/png": "[encoded data removed]",
            "text/plain": [
              "<Figure size 432x288 with 1 Axes>"
            ]
          },
          "metadata": {
            "tags": [],
            "needs_background": "light"
          }
        }
      ]
    },
    {
      "cell_type": "markdown",
      "metadata": {
        "id": "SjL1Ap3kGzYa"
      },
      "source": [
        "\n",
        "**From the Elbow method graph, the optimal number of clusters = 5**"
      ]
    },
    {
      "cell_type": "code",
      "metadata": {
        "id": "GkMIyXmbHcI1"
      },
      "source": [
        "from sklearn.cluster import KMeans\n",
        "kmeans = KMeans(n_clusters=5, init='k-means++', random_state=42)"
      ],
      "execution_count": 21,
      "outputs": []
    },
    {
      "cell_type": "code",
      "metadata": {
        "colab": {
          "base_uri": "https://localhost:8080/"
        },
        "id": "LI3KtlpPHict",
        "outputId": "961b6c30-a345-4399-90d7-fc0cf51825d9"
      },
      "source": [
        "y_kmeans = kmeans.fit_predict(df)\n",
        "y_kmeans"
      ],
      "execution_count": 22,
      "outputs": [
        {
          "output_type": "execute_result",
          "data": {
            "text/plain": [
              "array([4, 2, 4, 2, 4, 2, 4, 2, 4, 2, 4, 2, 4, 2, 4, 2, 4, 2, 4, 2, 4, 2,\n",
              "       4, 2, 4, 2, 4, 2, 4, 2, 4, 2, 4, 2, 4, 2, 4, 2, 4, 2, 4, 2, 4, 2,\n",
              "       4, 2, 2, 2, 2, 2, 2, 2, 2, 2, 2, 2, 2, 2, 2, 2, 2, 2, 2, 2, 2, 2,\n",
              "       0, 0, 0, 0, 0, 0, 0, 0, 0, 0, 0, 0, 0, 0, 0, 0, 0, 0, 0, 0, 0, 0,\n",
              "       0, 0, 0, 0, 0, 0, 0, 0, 0, 0, 0, 0, 0, 0, 0, 0, 0, 0, 0, 0, 0, 0,\n",
              "       0, 0, 0, 0, 0, 0, 0, 0, 0, 0, 0, 0, 0, 3, 0, 3, 0, 3, 1, 3, 1, 3,\n",
              "       1, 3, 1, 3, 1, 3, 1, 3, 1, 3, 1, 3, 1, 3, 1, 3, 1, 3, 1, 3, 1, 3,\n",
              "       1, 3, 1, 3, 1, 3, 1, 3, 1, 3, 1, 3, 1, 3, 1, 3, 1, 3, 1, 3, 1, 3,\n",
              "       1, 3, 1, 3, 1, 3, 1, 3, 1, 3, 1, 3, 1, 3, 1, 3, 1, 3, 1, 3, 1, 3,\n",
              "       1, 3], dtype=int32)"
            ]
          },
          "metadata": {
            "tags": []
          },
          "execution_count": 22
        }
      ]
    },
    {
      "cell_type": "markdown",
      "metadata": {
        "id": "WSxY9OwoIA_P"
      },
      "source": [
        "### Visulaize the clusters"
      ]
    },
    {
      "cell_type": "code",
      "metadata": {
        "id": "iJ8DxVVN-xHU",
        "colab": {
          "base_uri": "https://localhost:8080/",
          "height": 295
        },
        "outputId": "27c0809c-21ef-48f5-8bba-d95a16364442"
      },
      "source": [
        "plt.scatter(df.iloc[y_kmeans==0, -2], df.iloc[y_kmeans==0, -1], \n",
        "            s=50, c='red', label='Cluster 1')\n",
        "plt.scatter(df.iloc[y_kmeans==1, -2], df.iloc[y_kmeans==1, -1],\n",
        "            s=50, c='blue', label='Cluster 2')\n",
        "plt.scatter(df.iloc[y_kmeans==2, -2], df.iloc[y_kmeans==2, -1],\n",
        "            s=50, c='green', label='Cluster 3')\n",
        "plt.scatter(df.iloc[y_kmeans==3, -2], df.iloc[y_kmeans==3, -1],\n",
        "           s=50, c='yellow', label='Cluster 4')\n",
        "plt.scatter(df.iloc[y_kmeans==4, -2], df.iloc[y_kmeans==4, -1],\n",
        "           s=50, c='purple', label='Cluster 5')\n",
        "plt.scatter(kmeans.cluster_centers_[:, -2], kmeans.cluster_centers_[:, -1],\n",
        "            s=300, c='black', label='Centroids')\n",
        "plt.title('Clusters of Mall Users')\n",
        "plt.xlabel('Annual Income (k$)')\n",
        "plt.ylabel('Spending Score')\n",
        "plt.legend()\n",
        "plt.show()"
      ],
      "execution_count": 24,
      "outputs": [
        {
          "output_type": "display_data",
          "data": {
            "image/png": "[encoded data removed]",
            "text/plain": [
              "<Figure size 432x288 with 1 Axes>"
            ]
          },
          "metadata": {
            "tags": [],
            "needs_background": "light"
          }
        }
      ]
    },
    {
      "cell_type": "markdown",
      "metadata": {
        "id": "68nSfYbRMtDa"
      },
      "source": [
        "### Analysis"
      ]
    },
    {
      "cell_type": "markdown",
      "metadata": {
        "id": "TIW4ekWWMp13"
      },
      "source": [
        "* Purple Cluster: groups people with decent salaries who spend a lot.\n",
        "* Green Cluster: groups people salary isn't pretty high and their spending score is moderate.\n",
        "* Red Cluster: groups people who actually have pretty good salaries and barely spend money.\n",
        "* Yellow Cluster: groups people with moderate to high annual salaries who actually spend between moderate to a lot of their income.\n",
        "* Blue Cluster:  groups people with moderate to high annual salaries but don't spend much money in stores."
      ]
    }
  ]
}