{
  "nbformat": 4,
  "nbformat_minor": 0,
  "metadata": {
    "colab": {
      "name": "Perceptron.ipynb",
      "provenance": [],
      "collapsed_sections": []
    },
    "kernelspec": {
      "name": "python3",
      "display_name": "Python 3"
    },
    "language_info": {
      "name": "python"
    }
  },
  "cells": [
    {
      "cell_type": "markdown",
      "metadata": {
        "id": "8kbCDhxIEwQ_"
      },
      "source": [
        "## **Example of perceptron learning: the logical operation AND**"
      ]
    },
    {
      "cell_type": "code",
      "metadata": {
        "id": "iWjcBYu8wuZO"
      },
      "source": [
        "import math\n",
        "import numpy as np"
      ],
      "execution_count": 1,
      "outputs": []
    },
    {
      "cell_type": "code",
      "metadata": {
        "id": "czmCaEtZw9dQ"
      },
      "source": [
        "alpha = 0.1\n",
        "threshold = 0.2\n",
        "epochs = 5"
      ],
      "execution_count": 2,
      "outputs": []
    },
    {
      "cell_type": "markdown",
      "metadata": {
        "id": "8jt4OANvxTuW"
      },
      "source": [
        "**Initialize inputs and weights**"
      ]
    },
    {
      "cell_type": "code",
      "metadata": {
        "id": "GfydFfZPxrA_"
      },
      "source": [
        "# w0 = np.random.randn()\n",
        "# w1 = np.random.randn()\n",
        "w0 = 0.3\n",
        "w1 = -0.1\n",
        "inputs = np.asarray([[0, 0], [0, 1], [1, 0], [1, 1]])\n",
        "desired_y = np.asarray([0,0,0,1])"
      ],
      "execution_count": 3,
      "outputs": []
    },
    {
      "cell_type": "markdown",
      "metadata": {
        "id": "xvS6luMV0Wm5"
      },
      "source": [
        "**Activation, Weight Training,  Iteration through epochs:**"
      ]
    },
    {
      "cell_type": "markdown",
      "metadata": {
        "id": "zwHv2Sqd2XZw"
      },
      "source": [
        "The perceptron is activated by the sequence of four input patterns representing an ***epoch***. The perceptron weights are updated after each activation. \n",
        "This process is repeated until all the weights converge to a uniform set of\n",
        "values.\n",
        "\n",
        "This can be indicated when error = 0 in all input patterns in the last epoch\n",
        "\n",
        "***Activation function*** : Step function "
      ]
    },
    {
      "cell_type": "code",
      "metadata": {
        "colab": {
          "base_uri": "https://localhost:8080/"
        },
        "id": "5hU0CNpE0eL8",
        "outputId": "abe87db4-2629-4d9e-c7e5-4b24bce327b8"
      },
      "source": [
        "for i in range(epochs):\n",
        "  print('\\n>>epoch #',(i+1))\n",
        "  j = 0\n",
        "  for x in inputs:\n",
        "    weighted_sum = round(x[0]*w0 + x[1]*w1, 2)\n",
        "    if (weighted_sum >= threshold):\n",
        "      actual_y = 1\n",
        "    else:\n",
        "      actual_y = 0\n",
        "    error = desired_y[j] - actual_y\n",
        "\n",
        "    # weigh training\n",
        "    w0 += round(alpha * error * x[0] ,2)\n",
        "    w1 += round(alpha * error * x[1] ,2)\n",
        "\n",
        "    print(\"  input #\", j)\n",
        "    print(\"    desired output = \",desired_y[j])\n",
        "    print(\"    actual output = \",actual_y)\n",
        "    print(\"    w0 = \",w0,\"w1 = \",w1)\n",
        "    print(\"    error = \",  error)\n",
        "    j += 1\n",
        "  print('\\n-----------------------------------')\n"
      ],
      "execution_count": 4,
      "outputs": [
        {
          "output_type": "stream",
          "text": [
            "\n",
            ">>epoch # 1\n",
            "  input # 0\n",
            "    desired output =  0\n",
            "    actual output =  0\n",
            "    w0 =  0.3 w1 =  -0.1\n",
            "    error =  0\n",
            "  input # 1\n",
            "    desired output =  0\n",
            "    actual output =  0\n",
            "    w0 =  0.3 w1 =  -0.1\n",
            "    error =  0\n",
            "  input # 2\n",
            "    desired output =  0\n",
            "    actual output =  1\n",
            "    w0 =  0.19999999999999998 w1 =  -0.1\n",
            "    error =  -1\n",
            "  input # 3\n",
            "    desired output =  1\n",
            "    actual output =  0\n",
            "    w0 =  0.3 w1 =  0.0\n",
            "    error =  1\n",
            "\n",
            "-----------------------------------\n",
            "\n",
            ">>epoch # 2\n",
            "  input # 0\n",
            "    desired output =  0\n",
            "    actual output =  0\n",
            "    w0 =  0.3 w1 =  0.0\n",
            "    error =  0\n",
            "  input # 1\n",
            "    desired output =  0\n",
            "    actual output =  0\n",
            "    w0 =  0.3 w1 =  0.0\n",
            "    error =  0\n",
            "  input # 2\n",
            "    desired output =  0\n",
            "    actual output =  1\n",
            "    w0 =  0.19999999999999998 w1 =  0.0\n",
            "    error =  -1\n",
            "  input # 3\n",
            "    desired output =  1\n",
            "    actual output =  1\n",
            "    w0 =  0.19999999999999998 w1 =  0.0\n",
            "    error =  0\n",
            "\n",
            "-----------------------------------\n",
            "\n",
            ">>epoch # 3\n",
            "  input # 0\n",
            "    desired output =  0\n",
            "    actual output =  0\n",
            "    w0 =  0.19999999999999998 w1 =  0.0\n",
            "    error =  0\n",
            "  input # 1\n",
            "    desired output =  0\n",
            "    actual output =  0\n",
            "    w0 =  0.19999999999999998 w1 =  0.0\n",
            "    error =  0\n",
            "  input # 2\n",
            "    desired output =  0\n",
            "    actual output =  1\n",
            "    w0 =  0.09999999999999998 w1 =  0.0\n",
            "    error =  -1\n",
            "  input # 3\n",
            "    desired output =  1\n",
            "    actual output =  0\n",
            "    w0 =  0.19999999999999998 w1 =  0.1\n",
            "    error =  1\n",
            "\n",
            "-----------------------------------\n",
            "\n",
            ">>epoch # 4\n",
            "  input # 0\n",
            "    desired output =  0\n",
            "    actual output =  0\n",
            "    w0 =  0.19999999999999998 w1 =  0.1\n",
            "    error =  0\n",
            "  input # 1\n",
            "    desired output =  0\n",
            "    actual output =  0\n",
            "    w0 =  0.19999999999999998 w1 =  0.1\n",
            "    error =  0\n",
            "  input # 2\n",
            "    desired output =  0\n",
            "    actual output =  1\n",
            "    w0 =  0.09999999999999998 w1 =  0.1\n",
            "    error =  -1\n",
            "  input # 3\n",
            "    desired output =  1\n",
            "    actual output =  1\n",
            "    w0 =  0.09999999999999998 w1 =  0.1\n",
            "    error =  0\n",
            "\n",
            "-----------------------------------\n",
            "\n",
            ">>epoch # 5\n",
            "  input # 0\n",
            "    desired output =  0\n",
            "    actual output =  0\n",
            "    w0 =  0.09999999999999998 w1 =  0.1\n",
            "    error =  0\n",
            "  input # 1\n",
            "    desired output =  0\n",
            "    actual output =  0\n",
            "    w0 =  0.09999999999999998 w1 =  0.1\n",
            "    error =  0\n",
            "  input # 2\n",
            "    desired output =  0\n",
            "    actual output =  0\n",
            "    w0 =  0.09999999999999998 w1 =  0.1\n",
            "    error =  0\n",
            "  input # 3\n",
            "    desired output =  1\n",
            "    actual output =  1\n",
            "    w0 =  0.09999999999999998 w1 =  0.1\n",
            "    error =  0\n",
            "\n",
            "-----------------------------------\n"
          ],
          "name": "stdout"
        }
      ]
    }
  ]
}